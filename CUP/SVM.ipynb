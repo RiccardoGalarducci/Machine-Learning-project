{
 "cells": [
  {
   "cell_type": "markdown",
   "metadata": {
    "id": "C75c9hjwD6pW"
   },
   "source": [
    "# **SVM - Support Vector Machine (ML-CUP22)**"
   ]
  },
  {
   "cell_type": "code",
   "execution_count": null,
   "metadata": {
    "id": "w3SakHaoh53v"
   },
   "outputs": [],
   "source": [
    "# Install packages\n",
    "!pip install keras_tuner"
   ]
  },
  {
   "cell_type": "code",
   "execution_count": null,
   "metadata": {
    "id": "CM6pA4omh-ev"
   },
   "outputs": [],
   "source": [
    "# Importing libraries\n",
    "import pandas as pd\n",
    "import numpy as np\n",
    "import matplotlib.pyplot as plt\n",
    "import seaborn as sns\n",
    "from sklearn.model_selection import train_test_split\n",
    "from sklearn import metrics\n",
    "from sklearn import model_selection\n",
    "import tensorflow as tf\n",
    "\n",
    "# SVM\n",
    "from sklearn.svm import SVR\n",
    "from sklearn.multioutput import MultiOutputRegressor\n",
    "\n",
    "# Keras tuner\n",
    "import keras_tuner\n",
    "\n",
    "# Cross validation\n",
    "from sklearn.model_selection import KFold, cross_val_score\n",
    "from sklearn.metrics import make_scorer, accuracy_score, log_loss"
   ]
  },
  {
   "cell_type": "code",
   "execution_count": null,
   "metadata": {
    "id": "mEKAcoksDeYR"
   },
   "outputs": [],
   "source": [
    "# Mount google drive to access data loaded on Drive\n",
    "from google.colab import drive\n",
    "drive.mount('/content/drive', force_remount=True)"
   ]
  },
  {
   "cell_type": "markdown",
   "metadata": {
    "id": "OTO9IglLh_3e"
   },
   "source": [
    "**Definition of Functions**"
   ]
  },
  {
   "cell_type": "code",
   "execution_count": null,
   "metadata": {
    "id": "-EpDPl7PEv5V"
   },
   "outputs": [],
   "source": [
    "## Definition of Mean Euclidean Error (MEE): metric used for performance evaluation of the model\n",
    "def MEE(y_true, y_pred):\n",
    "  eucl_norm = np.linalg.norm(y_true - y_pred, ord=2, axis=1)\n",
    "  return np.mean(eucl_norm)"
   ]
  },
  {
   "cell_type": "markdown",
   "metadata": {
    "id": "i0SzWghGFnUh"
   },
   "source": [
    "---\n",
    "## **Data Preparation**"
   ]
  },
  {
   "cell_type": "code",
   "execution_count": null,
   "metadata": {
    "id": "OtEv2E_3Foq8"
   },
   "outputs": [],
   "source": [
    "# Loading the training dataset ML-CUP\n",
    "path = '/content/drive/MyDrive/data/Data_CUP/ML-CUP22-TR.csv'\n",
    "col_names = ['a1', 'a2', 'a3', 'a4', 'a5', 'a6', 'a7', 'a8', 'a9', 'x', 'y']\n",
    "\n",
    "data = pd.read_csv(path, names=col_names, comment='#')\n",
    "data.shape"
   ]
  },
  {
   "cell_type": "code",
   "execution_count": null,
   "metadata": {
    "id": "t0QhlsqEFovJ"
   },
   "outputs": [],
   "source": [
    "# Check the first 5 rows\n",
    "data.head()"
   ]
  },
  {
   "cell_type": "code",
   "execution_count": null,
   "metadata": {
    "id": "3UXtJO2uJ9uh"
   },
   "outputs": [],
   "source": [
    "# Check for NaN values\n",
    "data.isnull().any()"
   ]
  },
  {
   "cell_type": "code",
   "execution_count": null,
   "metadata": {
    "id": "4GUJAkT6Mdf8"
   },
   "outputs": [],
   "source": [
    "# Split data into design (85%) and test (15%) sets\n",
    "design, test = train_test_split(data, test_size=0.15, shuffle=True, random_state=42)\n",
    "print(f'design shape: {design.shape}')\n",
    "print(f'test shape: {test.shape}')\n",
    "\n",
    "# Split design data into train (80%) and validation (20%) sets\n",
    "train, val = train_test_split(design, test_size=0.20, shuffle=True, random_state=42)\n",
    "print(f'train shape: {train.shape}')\n",
    "print(f'val shape: {val.shape}')"
   ]
  },
  {
   "cell_type": "code",
   "execution_count": null,
   "metadata": {
    "id": "qaJ0fwft7h-q"
   },
   "outputs": [],
   "source": [
    "# Descriptive statistics on design data\n",
    "design.describe()"
   ]
  },
  {
   "cell_type": "code",
   "execution_count": null,
   "metadata": {
    "id": "z8P7TQw5H_hQ"
   },
   "outputs": [],
   "source": [
    "# X_design, y_design split\n",
    "X_design , y_design = design.iloc[:, :-2], design.loc[:, ['x', 'y']]\n",
    "print(f'X_design shape: {X_design.shape}')\n",
    "print(f'y_design shape: {y_design.shape}')\n",
    "print()\n",
    "\n",
    "# X_train, y_train split\n",
    "X_train , y_train = train.iloc[:, :-2], train.loc[:, ['x', 'y']]\n",
    "print(f'X_train shape: {X_train.shape}')\n",
    "print(f'y_train shape: {y_train.shape}')\n",
    "print()\n",
    "\n",
    "# X_val, y_val split\n",
    "X_val , y_val = val.iloc[:, :-2], val.loc[:, ['x', 'y']]\n",
    "print(f'X_val shape: {X_val.shape}')\n",
    "print(f'y_val shape: {y_val.shape}')\n",
    "print()\n",
    "\n",
    "# X_test, y_test split\n",
    "X_test , y_test = test.iloc[:, :-2], test.loc[:, ['x', 'y']]\n",
    "print(f'X_test shape: {X_test.shape}')\n",
    "print(f'y_test shape: {y_test.shape}')"
   ]
  },
  {
   "cell_type": "markdown",
   "metadata": {
    "id": "gA9nN2JzFgqO"
   },
   "source": [
    "---\n",
    "## **Preliminary Experimental Phase**"
   ]
  },
  {
   "cell_type": "code",
   "execution_count": null,
   "metadata": {
    "id": "qq8OV_kP_v8m"
   },
   "outputs": [],
   "source": [
    "# Define the model\n",
    "model = MultiOutputRegressor(SVR(C=4, kernel='rbf', epsilon=0.001, gamma='scale'))"
   ]
  },
  {
   "cell_type": "code",
   "execution_count": null,
   "metadata": {
    "id": "tnZqp8heiOWt"
   },
   "outputs": [],
   "source": [
    "# Fit the model\n",
    "model.fit(X_train, y_train)"
   ]
  },
  {
   "cell_type": "code",
   "execution_count": null,
   "metadata": {
    "id": "7XgFb0Jr_wDs"
   },
   "outputs": [],
   "source": [
    "# Predict the validation data\n",
    "y_pred = model.predict(X_val)"
   ]
  },
  {
   "cell_type": "code",
   "execution_count": null,
   "metadata": {
    "id": "Ui8cELVB_wJT"
   },
   "outputs": [],
   "source": [
    "# Compute MEE\n",
    "mee = MEE(y_pred, y_val)\n",
    "print(mee)"
   ]
  },
  {
   "cell_type": "markdown",
   "metadata": {
    "id": "CcoN15r7mEWC"
   },
   "source": [
    "---\n",
    "## **GridSearch**"
   ]
  },
  {
   "cell_type": "markdown",
   "metadata": {
    "id": "4-yLvCIm_xey"
   },
   "source": [
    "### **Coarse-grained GridSearch (linear & rbf kernel functions)**"
   ]
  },
  {
   "cell_type": "code",
   "execution_count": null,
   "metadata": {
    "id": "5zD0CLTqoC0i"
   },
   "outputs": [],
   "source": [
    "# Build GridSearch\n",
    "def build_model(hp):\n",
    "  model = MultiOutputRegressor(SVR(\n",
    "      kernel=hp.Choice('kernel', ['linear', 'rbf']),\n",
    "      C = hp.Choice('C', [1e-3, 1e-2, 1e-1, 1.0, 10.0, 100.0]),\n",
    "      epsilon = hp.Choice('epsilon', [1e-2, 1e-1, 1.0, 10.0]),\n",
    "      gamma = hp.Choice('gamma', ['auto', 'scale']),\n",
    "  ))\n",
    "  return model"
   ]
  },
  {
   "cell_type": "code",
   "execution_count": null,
   "metadata": {
    "id": "9xiDSWtCoMlG"
   },
   "outputs": [],
   "source": [
    "# Define Keras Tuner\n",
    "tuner1 = keras_tuner.tuners.SklearnTuner(\n",
    "    # Define hyperparameter optimization algorithm\n",
    "    oracle=keras_tuner.oracles.GridSearchOracle(\n",
    "        objective = keras_tuner.Objective('score', 'min'),\n",
    "        max_consecutive_failed_trials=1),\n",
    "    # Evaluate on MSE\n",
    "    scoring=metrics.make_scorer(metrics.mean_squared_error),\n",
    "    # Define GridSearch\n",
    "    hypermodel = build_model,\n",
    "    # Define KFold with k=5\n",
    "    cv=model_selection.KFold(5),\n",
    "    )"
   ]
  },
  {
   "cell_type": "code",
   "execution_count": null,
   "metadata": {
    "id": "Xq48KQskoQCC"
   },
   "outputs": [],
   "source": [
    "%%time\n",
    "# Search for the best hyperparameter configuration\n",
    "tuner1.search(X_design, y_design)"
   ]
  },
  {
   "cell_type": "code",
   "execution_count": null,
   "metadata": {
    "id": "wvSyRmZjoP_d"
   },
   "outputs": [],
   "source": [
    "# Summary results\n",
    "tuner1.results_summary()"
   ]
  },
  {
   "cell_type": "markdown",
   "metadata": {
    "id": "AXNzTDtGocfc"
   },
   "source": [
    "### **Coarse-grained GridSearch (poly)**"
   ]
  },
  {
   "cell_type": "code",
   "execution_count": null,
   "metadata": {
    "id": "knruv6M9A0Nj"
   },
   "outputs": [],
   "source": [
    "# Build GridSearch\n",
    "def build_model(hp):\n",
    "  model = MultiOutputRegressor(SVR(\n",
    "      kernel=hp.Fixed('kernel','poly'),\n",
    "      degree = hp.Choice('degree', [2, 3, 4]),\n",
    "      C = hp.Choice('C', [1e-3, 1e-2, 1e-1, 1.0, 10.0, 100.0]),\n",
    "      epsilon = hp.Choice('epsilon', [1e-2, 1e-1, 1.0, 10.0]),\n",
    "      gamma = hp.Choice('gamma', ['auto', 'scale']),\n",
    "  ))\n",
    "  return model"
   ]
  },
  {
   "cell_type": "code",
   "execution_count": null,
   "metadata": {
    "id": "f5z79lPaqWhC"
   },
   "outputs": [],
   "source": [
    "# Define Keras Tuner\n",
    "tuner2 = keras_tuner.tuners.SklearnTuner(\n",
    "    # Define hyperparameter optimization algorithm\n",
    "    oracle=keras_tuner.oracles.GridSearchOracle(\n",
    "        objective = keras_tuner.Objective('score', 'min'),\n",
    "        max_consecutive_failed_trials=1),\n",
    "    # Evaluate on MSE\n",
    "    scoring=metrics.make_scorer(metrics.mean_squared_error),\n",
    "    # Define GridSearch\n",
    "    hypermodel = build_model,\n",
    "    # Define KFold with k=5\n",
    "    cv=model_selection.KFold(5),\n",
    "    )"
   ]
  },
  {
   "cell_type": "code",
   "execution_count": null,
   "metadata": {
    "id": "YmSxrZaSqaRI"
   },
   "outputs": [],
   "source": [
    "%%time\n",
    "# Search for the best hyperparameter configuration\n",
    "tuner2.search(X_design, y_design)"
   ]
  },
  {
   "cell_type": "code",
   "execution_count": null,
   "metadata": {
    "id": "ZVfnU3lnqaOg"
   },
   "outputs": [],
   "source": [
    "# Summary results\n",
    "tuner2.results_summary()"
   ]
  },
  {
   "cell_type": "markdown",
   "metadata": {
    "id": "D2xYkf0rsBBR"
   },
   "source": [
    "### **Fine-grained GridSearch**"
   ]
  },
  {
   "cell_type": "code",
   "execution_count": null,
   "metadata": {
    "id": "_z6YqahqqggZ"
   },
   "outputs": [],
   "source": [
    "# Build model\n",
    "def build_model(hp):\n",
    "  model = MultiOutputRegressor(SVR(\n",
    "      kernel='rbf',\n",
    "      C = hp.Int('C', min_value=1, max_value=10, step=1),\n",
    "      epsilon = hp.Float('epsilon', min_value=0.01, max_value=1, step=0.01),\n",
    "      gamma = hp.Choice('gamma', ['auto', 'scale']),\n",
    "  ))\n",
    "  return model"
   ]
  },
  {
   "cell_type": "code",
   "execution_count": null,
   "metadata": {
    "id": "lw-p1rTttGl_"
   },
   "outputs": [],
   "source": [
    "# Define Keras Tuner\n",
    "tuner_fine = keras_tuner.tuners.SklearnTuner(\n",
    "    # Define hyperparameter optimization algorithm\n",
    "    oracle=keras_tuner.oracles.GridSearchOracle(\n",
    "        objective = keras_tuner.Objective('score', 'min'),\n",
    "        max_consecutive_failed_trials=1),\n",
    "    # Evaluate on MSE\n",
    "    scoring=metrics.make_scorer(metrics.mean_squared_error),\n",
    "    # Define GridSearch\n",
    "    hypermodel = build_model,\n",
    "    # Define KFold with k=5\n",
    "    cv=model_selection.KFold(5),\n",
    "    )"
   ]
  },
  {
   "cell_type": "code",
   "execution_count": null,
   "metadata": {
    "id": "OZxbI9KWtGjj"
   },
   "outputs": [],
   "source": [
    "%%time\n",
    "# Search for the best hyperparameter configuration\n",
    "tuner_fine.search(X_design, y_design)"
   ]
  },
  {
   "cell_type": "code",
   "execution_count": null,
   "metadata": {
    "id": "rh8OZ_UNtGg1"
   },
   "outputs": [],
   "source": [
    "# Summary results\n",
    "tuner_fine.results_summary()"
   ]
  },
  {
   "cell_type": "markdown",
   "metadata": {
    "id": "K0enr7Q9wXih"
   },
   "source": [
    "----\n",
    "## **K-Fold Cross Validation best model**"
   ]
  },
  {
   "cell_type": "code",
   "execution_count": null,
   "metadata": {
    "id": "-vA1tij7tGeJ"
   },
   "outputs": [],
   "source": [
    "# Define best model\n",
    "best_model = MultiOutputRegressor(SVR(C=4, kernel='rbf', epsilon=0.22, gamma='auto'))"
   ]
  },
  {
   "cell_type": "code",
   "execution_count": null,
   "metadata": {
    "id": "Dikzumz_bpaM"
   },
   "outputs": [],
   "source": [
    "# Define the K-fold Cross Validation (k=5) and evaluate on MEE\n",
    "MEE_score = cross_val_score(best_model, X=X_design, y=y_design, cv=5, scoring=metrics.make_scorer(MEE))"
   ]
  },
  {
   "cell_type": "code",
   "execution_count": null,
   "metadata": {
    "colab": {
     "base_uri": "https://localhost:8080/"
    },
    "id": "01MfgN2fbpWy",
    "outputId": "d22d3ffb-267c-48c7-cd3f-f32255496bc5"
   },
   "outputs": [
    {
     "name": "stdout",
     "output_type": "stream",
     "text": [
      "Mean MEE:  1.4460880227324244\n",
      "Standard Deviation MEE:  0.06062418254977978\n"
     ]
    }
   ],
   "source": [
    "print(\"Mean MEE: \", np.mean(MEE_score))\n",
    "print(\"Standard Deviation MEE: \", np.std(MEE_score))"
   ]
  },
  {
   "cell_type": "markdown",
   "metadata": {
    "id": "ooQeOGCzBCH4"
   },
   "source": [
    "---\n",
    "## **Model Assessment**"
   ]
  },
  {
   "cell_type": "code",
   "execution_count": null,
   "metadata": {
    "id": "1dxSQFrcwjsm"
   },
   "outputs": [],
   "source": [
    "# Fit the model on design set\n",
    "best_model.fit(X_design, y_design)"
   ]
  },
  {
   "cell_type": "code",
   "execution_count": null,
   "metadata": {
    "id": "xqAY6wGVD3so"
   },
   "outputs": [],
   "source": [
    "# Predict the design data\n",
    "y_pred_design = best_model.predict(X_design)\n",
    "\n",
    "# Compute MeanEuclideanError on design set\n",
    "mee_design = MEE(y_pred_design, y_design)\n",
    "print(mee_design)"
   ]
  },
  {
   "cell_type": "code",
   "execution_count": null,
   "metadata": {
    "id": "-7Tpkfshwjj1"
   },
   "outputs": [],
   "source": [
    "# Predict the test data\n",
    "y_pred_TS = best_model.predict(X_test)\n",
    "\n",
    "# Compute MeanEuclideanError on test set\n",
    "mee_TS = MEE(y_pred_TS, y_test)\n",
    "print(mee_TS)"
   ]
  },
  {
   "cell_type": "markdown",
   "metadata": {
    "id": "m2IwppkITIyl"
   },
   "source": [
    "## **Prediction Plots**"
   ]
  },
  {
   "cell_type": "code",
   "execution_count": null,
   "metadata": {
    "id": "Q50YEJVIfaPa"
   },
   "outputs": [],
   "source": [
    "# y prediction\n",
    "plt.figure(figsize=(8, 6))\n",
    "sns.set_theme(style=\"darkgrid\")\n",
    "sns.scatterplot(x=y_test['x'], y=y_test['y'], color='k', label='y_true')\n",
    "sns.scatterplot(x=y_test['x'], y=y_pred_TS[:, 1], color='g', label='y_pred')\n",
    "plt.title('Support Vector y prediction', fontsize=14)\n",
    "plt.xlabel('x', fontsize=14)\n",
    "plt.ylabel('y', fontsize=14)\n",
    "plt.xticks(fontsize=10)\n",
    "plt.yticks(fontsize=10)\n",
    "plt.legend()\n",
    "plt.show()"
   ]
  },
  {
   "cell_type": "code",
   "execution_count": null,
   "metadata": {
    "id": "uBtRX3YRfh5M"
   },
   "outputs": [],
   "source": [
    "# x prediction\n",
    "plt.figure(figsize=(8, 6))\n",
    "sns.set_theme(style=\"darkgrid\")\n",
    "sns.scatterplot(x=y_test['x'], y=y_test['y'], color='k', label='x_true')\n",
    "sns.scatterplot(x=y_pred_TS[:, 0], y=y_test['y'], color='g', label='x_pred')\n",
    "plt.title('Support Vector x prediction', fontsize=14)\n",
    "plt.xlabel('x', fontsize=14)\n",
    "plt.ylabel('y', fontsize=14)\n",
    "plt.xticks(fontsize=10)\n",
    "plt.yticks(fontsize=10)\n",
    "plt.legend()\n",
    "plt.show()"
   ]
  }
 ],
 "metadata": {
  "accelerator": "GPU",
  "colab": {
   "gpuType": "T4",
   "provenance": []
  },
  "kernelspec": {
   "display_name": "Python 3 (ipykernel)",
   "language": "python",
   "name": "python3"
  },
  "language_info": {
   "codemirror_mode": {
    "name": "ipython",
    "version": 3
   },
   "file_extension": ".py",
   "mimetype": "text/x-python",
   "name": "python",
   "nbconvert_exporter": "python",
   "pygments_lexer": "ipython3",
   "version": "3.9.12"
  }
 },
 "nbformat": 4,
 "nbformat_minor": 1
}
