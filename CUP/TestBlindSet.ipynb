{
 "cells": [
  {
   "cell_type": "markdown",
   "metadata": {
    "id": "iJt5ilP3XMXN"
   },
   "source": [
    "# **Testing best model on Blind Test set (ML-CUP22)**"
   ]
  },
  {
   "cell_type": "code",
   "execution_count": null,
   "metadata": {
    "id": "v1b9pOdNKvjA"
   },
   "outputs": [],
   "source": [
    "# Importing libraries\n",
    "import pandas as pd\n",
    "import numpy as np\n",
    "import seaborn as sns\n",
    "import csv\n",
    "\n",
    "# SVM\n",
    "from sklearn.svm import SVR\n",
    "from sklearn.multioutput import MultiOutputRegressor"
   ]
  },
  {
   "cell_type": "code",
   "execution_count": null,
   "metadata": {
    "id": "FCLvmfFTXECQ"
   },
   "outputs": [],
   "source": [
    "# Mount google drive to access data loaded on Drive\n",
    "from google.colab import drive\n",
    "drive.mount('/content/drive', force_remount=True)"
   ]
  },
  {
   "cell_type": "markdown",
   "metadata": {
    "id": "o9WyZRHhnlNQ"
   },
   "source": [
    "------\n",
    "## **Data preparation**"
   ]
  },
  {
   "cell_type": "code",
   "execution_count": null,
   "metadata": {
    "id": "E2gdOpzbJjfy"
   },
   "outputs": [],
   "source": [
    "# Loading the training set ML-CUP22\n",
    "path_TR = '/content/drive/MyDrive/data/Data_CUP/ML-CUP22-TR.csv'\n",
    "col_names_TR = ['a1', 'a2', 'a3', 'a4', 'a5', 'a6', 'a7', 'a8', 'a9', 'x', 'y']\n",
    "data_TR = pd.read_csv(path_TR, names=col_names_TR, comment='#')\n",
    "data_TR.shape"
   ]
  },
  {
   "cell_type": "code",
   "execution_count": null,
   "metadata": {
    "id": "PAzHAwVgn2EF"
   },
   "outputs": [],
   "source": [
    "# Loading the test (blind) set ML-CUP22\n",
    "path_TS = '/content/drive/MyDrive/data/Data_CUP/ML-CUP22-TS.csv'\n",
    "col_names_TS = ['a1', 'a2', 'a3', 'a4', 'a5', 'a6', 'a7', 'a8', 'a9']\n",
    "data_TS = pd.read_csv(path_TS, names=col_names_TS, comment='#')\n",
    "data_TS.shape"
   ]
  },
  {
   "cell_type": "code",
   "execution_count": null,
   "metadata": {
    "id": "_qh9oFVSLuyw"
   },
   "outputs": [],
   "source": [
    "# X_train, y_train split\n",
    "X_train, y_train = data_TR.iloc[:, :-2], data_TR.loc[:, ['x', 'y']]\n",
    "print(f'X_train shape: {X_train.shape}')\n",
    "print(f'y_train shape: {y_train.shape}')\n",
    "print()"
   ]
  },
  {
   "cell_type": "code",
   "execution_count": null,
   "metadata": {
    "id": "QAuab8hjMHBu"
   },
   "outputs": [],
   "source": [
    "# X_test\n",
    "X_test = data_TS.loc[:,:]\n",
    "print(f'X_test shape: {X_test.shape}')"
   ]
  },
  {
   "cell_type": "markdown",
   "metadata": {
    "id": "tlfniPaoLS5l"
   },
   "source": [
    "----\n",
    "## **Support Vector Machine (SVM) - Radial Basis Function (RBF)**"
   ]
  },
  {
   "cell_type": "code",
   "execution_count": null,
   "metadata": {
    "id": "RJnSZjbTLXRS"
   },
   "outputs": [],
   "source": [
    "# Define the best model for SVM\n",
    "model_svm = MultiOutputRegressor(SVR(C=4, kernel='rbf', epsilon=0.22, gamma='auto'))"
   ]
  },
  {
   "cell_type": "code",
   "execution_count": null,
   "metadata": {
    "id": "xyfs4SbvLnRk"
   },
   "outputs": [],
   "source": [
    "# Fit the model\n",
    "model_svm.fit(X_train, y_train)"
   ]
  },
  {
   "cell_type": "code",
   "execution_count": null,
   "metadata": {
    "id": "j7cvFZ4rLnPN"
   },
   "outputs": [],
   "source": [
    "# Make prediction\n",
    "y_pred = model_svm.predict(X_test)"
   ]
  },
  {
   "cell_type": "code",
   "execution_count": null,
   "metadata": {
    "id": "-vB7b7kQojp1"
   },
   "outputs": [],
   "source": [
    "# Generate CSV output file\n",
    "filename = '/content/drive/MyDrive/NoPt_ML-CUP22-TS.csv'\n",
    "\n",
    "df = pd.DataFrame(y_pred)\n",
    "\n",
    "df.index = np.arange(1, len(df)+1)\n",
    "\n",
    "with open(filename, 'w') as f:\n",
    "  f.write('# Cosimo Faeti Riccardo Galarducci\\n')\n",
    "  f.write('# NoPt\\n')\n",
    "  f.write('# ML-CUP22\\n')\n",
    "  f.write('# 06/07/2023\\n')\n",
    "df.to_csv(filename, header= False, mode='a', index=True)"
   ]
  }
 ],
 "metadata": {
  "colab": {
   "provenance": []
  },
  "kernelspec": {
   "display_name": "Python 3 (ipykernel)",
   "language": "python",
   "name": "python3"
  },
  "language_info": {
   "codemirror_mode": {
    "name": "ipython",
    "version": 3
   },
   "file_extension": ".py",
   "mimetype": "text/x-python",
   "name": "python",
   "nbconvert_exporter": "python",
   "pygments_lexer": "ipython3",
   "version": "3.9.12"
  }
 },
 "nbformat": 4,
 "nbformat_minor": 1
}
