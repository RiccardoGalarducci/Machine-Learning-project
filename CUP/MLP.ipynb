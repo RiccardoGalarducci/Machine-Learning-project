{
 "cells": [
  {
   "cell_type": "markdown",
   "metadata": {
    "id": "C75c9hjwD6pW"
   },
   "source": [
    "# **MLP - Multi Layer Perceptron (ML-CUP22)**"
   ]
  },
  {
   "cell_type": "code",
   "execution_count": null,
   "metadata": {
    "id": "WIBquywefLjn"
   },
   "outputs": [],
   "source": [
    "# Install packages\n",
    "!pip install keras_tuner"
   ]
  },
  {
   "cell_type": "code",
   "execution_count": null,
   "metadata": {
    "id": "FygFRYy9fSxf"
   },
   "outputs": [],
   "source": [
    "# Importing libraries\n",
    "import pandas as pd\n",
    "import numpy as np\n",
    "import matplotlib.pyplot as plt\n",
    "import seaborn as sns\n",
    "from sklearn.model_selection import train_test_split\n",
    "from sklearn.model_selection import KFold\n",
    "from statistics import mean, stdev\n",
    "\n",
    "# MLP\n",
    "import tensorflow as tf\n",
    "from tensorflow import keras\n",
    "from keras import layers\n",
    "\n",
    "# keras_tuner for GridSearch\n",
    "import keras_tuner"
   ]
  },
  {
   "cell_type": "code",
   "execution_count": null,
   "metadata": {
    "id": "mEKAcoksDeYR"
   },
   "outputs": [],
   "source": [
    "# Mount google drive to access data loaded on Drive\n",
    "from google.colab import drive\n",
    "drive.mount('/content/drive', force_remount=True)"
   ]
  },
  {
   "cell_type": "markdown",
   "metadata": {
    "id": "co8OcAaXfXxe"
   },
   "source": [
    "**Definition of Functions**"
   ]
  },
  {
   "cell_type": "code",
   "execution_count": null,
   "metadata": {
    "id": "RmfqCZWs41cW"
   },
   "outputs": [],
   "source": [
    "## Definition of loss/accuracy/MEE plot functions\n",
    "\n",
    "def loss_plot(history, label_loss, label_val_loss):\n",
    "  loss = history.history['loss']\n",
    "  val_loss = history.history['val_loss']\n",
    "  epochs = range(1, len(loss) + 1)\n",
    "  plt.figure(figsize=(9, 5))\n",
    "  # Training & Validation loss\n",
    "  if label_loss=='Training loss' and label_val_loss=='Validation loss':\n",
    "    plt.plot(epochs, loss, label='Training loss', color='royalblue')\n",
    "    plt.plot(epochs, val_loss, label='Validation loss', linestyle='dashed', color='darkorange')\n",
    "    plt.title('Training & Validation Loss', fontsize=14)\n",
    "  # Design & Test loss\n",
    "  elif label_loss=='Design loss' and label_val_loss=='Test loss':\n",
    "    plt.plot(epochs, loss, label='Design loss', color='royalblue')\n",
    "    plt.plot(epochs, val_loss, label='Test loss', linestyle='dashed', color='darkorange')\n",
    "    plt.title('Design & Test Loss', fontsize=14)\n",
    "  plt.xlabel('Epochs', fontsize=14)\n",
    "  plt.ylabel('Loss', fontsize=14)\n",
    "  plt.xticks(fontsize=12)\n",
    "  plt.yticks(fontsize=12)\n",
    "  plt.legend(fontsize=14)\n",
    "  plt.show()\n",
    "\n",
    "def MEE_plot(history, label_MEE, label_val_MEE):\n",
    "  MEE = history.history['MEE']\n",
    "  val_MEE = history.history['val_MEE']\n",
    "  epochs = range(1, len(MEE) + 1)\n",
    "  plt.figure(figsize=(9, 5))\n",
    "  # Training & Validation MEE\n",
    "  if label_MEE=='Training MEE' and label_val_MEE=='Validation MEE':\n",
    "    plt.plot(epochs, MEE, label='Training MEE', color='royalblue')\n",
    "    plt.plot(epochs, val_MEE, label='Validation MEE', linestyle='dashed', color='darkorange')\n",
    "    plt.title('Training & Validation MEE', fontsize=14)\n",
    "  # Design & Test MEE\n",
    "  elif label_MEE=='Design MEE' and label_val_MEE=='Test MEE':\n",
    "    plt.plot(epochs, MEE, label='Design MEE', color='royalblue')\n",
    "    plt.plot(epochs, val_MEE, label='Test MEE', linestyle='dashed', color='darkorange')\n",
    "    plt.title('Design & Test MEE', fontsize=14)\n",
    "  plt.xlabel('Epochs', fontsize=14)\n",
    "  plt.ylabel('MEE', fontsize=14)\n",
    "  plt.xticks(fontsize=12)\n",
    "  plt.yticks(fontsize=12)\n",
    "  plt.legend(fontsize=14)\n",
    "  plt.show()"
   ]
  },
  {
   "cell_type": "code",
   "execution_count": null,
   "metadata": {
    "id": "dawdH7B7Iuei"
   },
   "outputs": [],
   "source": [
    "## Definition of Mean Euclidean Error (MEE): metric used for performance evaluation of the model\n",
    "def MEE(y_true, y_pred):\n",
    "  eucl_norm = tf.norm(y_true - y_pred, ord='euclidean', axis=1)\n",
    "  return tf.reduce_mean(eucl_norm)"
   ]
  },
  {
   "cell_type": "code",
   "execution_count": null,
   "metadata": {
    "id": "gMw71l3z1EoS"
   },
   "outputs": [],
   "source": [
    "## Definition of MLP model\n",
    "def build_model(n_hidden_layers, units, activation, kernel_initializer, optimizer):\n",
    "  # Define the model\n",
    "  model = keras.Sequential()\n",
    "  model.add(tf.keras.Input(shape=(X.shape[1],)))\n",
    "  for i in range(n_hidden_layers):\n",
    "    model.add(layers.Dense(units=units, activation=activation, kernel_initializer=kernel_initializer))\n",
    "  model.add(layers.Dense(units=2))\n",
    "  # Compile the model\n",
    "  model.compile(optimizer=optimizer,\n",
    "                loss=MEE,\n",
    "                metrics=MEE)\n",
    "  return model"
   ]
  },
  {
   "cell_type": "markdown",
   "metadata": {
    "id": "i0SzWghGFnUh"
   },
   "source": [
    "---\n",
    "## **Data Preparation**"
   ]
  },
  {
   "cell_type": "code",
   "execution_count": null,
   "metadata": {
    "id": "OtEv2E_3Foq8"
   },
   "outputs": [],
   "source": [
    "# Loading the training dataset ML-CUP22-TR.csv\n",
    "path = '/content/drive/MyDrive/data/Data_CUP/ML-CUP22-TR.csv'\n",
    "col_names = ['a1', 'a2', 'a3', 'a4', 'a5', 'a6', 'a7', 'a8', 'a9', 'x', 'y']\n",
    "\n",
    "data = pd.read_csv(path, names=col_names, comment='#')\n",
    "data.shape"
   ]
  },
  {
   "cell_type": "code",
   "execution_count": null,
   "metadata": {
    "id": "t0QhlsqEFovJ"
   },
   "outputs": [],
   "source": [
    "# Check the first 5 rows\n",
    "data.head()"
   ]
  },
  {
   "cell_type": "code",
   "execution_count": null,
   "metadata": {
    "id": "3UXtJO2uJ9uh"
   },
   "outputs": [],
   "source": [
    "# Check for NaN values\n",
    "data.isnull().any()"
   ]
  },
  {
   "cell_type": "code",
   "execution_count": null,
   "metadata": {
    "id": "4GUJAkT6Mdf8"
   },
   "outputs": [],
   "source": [
    "# Split data into design (85%) and test (15%) sets\n",
    "design, test = train_test_split(data, test_size=0.15, shuffle=True, random_state=42)\n",
    "print(f'train shape: {design.shape}')\n",
    "print(f'test shape: {test.shape}')"
   ]
  },
  {
   "cell_type": "code",
   "execution_count": null,
   "metadata": {
    "id": "qaJ0fwft7h-q"
   },
   "outputs": [],
   "source": [
    "# Descriptive statistics on design data\n",
    "design.describe()"
   ]
  },
  {
   "cell_type": "code",
   "execution_count": null,
   "metadata": {
    "id": "z8P7TQw5H_hQ"
   },
   "outputs": [],
   "source": [
    "# X, y split\n",
    "X , y = design.iloc[:, :-2], design.loc[:, ['x', 'y']]\n",
    "\n",
    "print(f'X shape: {X.shape}')\n",
    "print(f'y shape: {y.shape}')"
   ]
  },
  {
   "cell_type": "code",
   "execution_count": null,
   "metadata": {
    "id": "_K1yJ8IjvVwB"
   },
   "outputs": [],
   "source": [
    "# X_test, y_test split\n",
    "X_test , y_test = test.iloc[:, :-2], test.loc[:, ['x', 'y']]\n",
    "\n",
    "print(f'X shape: {X_test.shape}')\n",
    "print(f'y shape: {y_test.shape}')"
   ]
  },
  {
   "cell_type": "markdown",
   "metadata": {
    "id": "gA9nN2JzFgqO"
   },
   "source": [
    "----\n",
    "## **Preliminary Experimental Phase by K-Fold Cross Validation**"
   ]
  },
  {
   "cell_type": "code",
   "execution_count": null,
   "metadata": {
    "id": "uqhXCojhkNoN"
   },
   "outputs": [],
   "source": [
    "# Define early stopping\n",
    "early_stopping = keras.callbacks.EarlyStopping(monitor='val_loss', patience=30)\n",
    "\n",
    "# Val MEE on the individual folds.\n",
    "MEE_per_fold = []\n",
    "\n",
    "# Define the K-fold Cross Validator\n",
    "kfold = KFold(n_splits=5, shuffle=True)\n",
    "\n",
    "# Run a 10-folds cross-validation.\n",
    "for  fold_idx, (train_indices, val_indices) in enumerate(kfold.split(design)):\n",
    "  print(f\"Running fold {fold_idx+1}\")\n",
    "\n",
    "  # Extract the training and testing examples.\n",
    "  X_train , y_train = design.iloc[train_indices, :-2], design.iloc[train_indices, -2:]\n",
    "  X_val , y_val = design.iloc[val_indices, :-2], design.iloc[val_indices, -2:]\n",
    "\n",
    "  # Define the model\n",
    "  model = build_model(\n",
    "    n_hidden_layers=3,\n",
    "    units=64,\n",
    "    activation='elu',\n",
    "    kernel_initializer='RandomUniform',\n",
    "    optimizer=tf.keras.optimizers.Adam(weight_decay=0.001)\n",
    "    )\n",
    "\n",
    "  # Train the model\n",
    "  history = model.fit(X_train, y_train,\n",
    "                      validation_data=(X_val, y_val),\n",
    "                      batch_size=64,\n",
    "                      epochs=1000,\n",
    "                      callbacks=[early_stopping],\n",
    "                      verbose=0)\n",
    "\n",
    "  # Evaluate the model\n",
    "  val_mee = min(history.history['val_MEE'])\n",
    "  print(f'val_MEE: {val_mee}')\n",
    "  MEE_per_fold.append(val_mee)\n",
    "\n",
    "print(f\"Mean: {mean(MEE_per_fold)}\")\n",
    "print(f\"Stdev: {stdev(MEE_per_fold)}\")"
   ]
  },
  {
   "cell_type": "markdown",
   "metadata": {
    "id": "NiHTVAWTgmqV"
   },
   "source": [
    "----\n",
    "## **GridSearch**"
   ]
  },
  {
   "cell_type": "markdown",
   "metadata": {
    "id": "kNUuCzfrxJVQ"
   },
   "source": [
    "### **Coarse-grained GridSearch (SGD & Weight decay)**"
   ]
  },
  {
   "cell_type": "code",
   "execution_count": null,
   "metadata": {
    "id": "qo6wgtGvxPa3"
   },
   "outputs": [],
   "source": [
    "# Define HyperModel\n",
    "class MyHyperModel(keras_tuner.HyperModel):\n",
    "  def build(self, hp):\n",
    "    # Hyperparameters\n",
    "    units=hp.Choice(\"units\", [16, 64, 256])\n",
    "    learning_rate = hp.Choice(\"learning_rate\", [1e-3, 1e-2])\n",
    "    momentum = hp.Choice(\"momentum\", [0.0, 0.9])\n",
    "    weight_decay = hp.Choice('weight_decay', [1e-4, 1e-3, 1e-2])\n",
    "    nesterov = hp.Boolean(\"nesterov\")\n",
    "    # Define the Model\n",
    "    model = keras.Sequential()\n",
    "    model.add(layers.Input(shape=[9,]))\n",
    "    for i in range(hp.Int(\"num_layers\", 2, 3, sampling='linear')):\n",
    "      model.add(layers.Dense(units=units, activation='elu', kernel_initializer='RandomUniform'))\n",
    "    model.add(layers.Dense(2))\n",
    "    # Compile the model\n",
    "    model.compile(\n",
    "        optimizer=keras.optimizers.SGD(learning_rate=learning_rate,\n",
    "                                       momentum=momentum,\n",
    "                                       weight_decay=weight_decay,\n",
    "                                       nesterov=nesterov),\n",
    "        loss=MEE,\n",
    "        metrics=MEE\n",
    "        )\n",
    "    return model\n",
    "\n",
    "  def fit(self, hp, model, *args, **kwargs):\n",
    "    return model.fit(\n",
    "        *args,\n",
    "        batch_size=hp.Choice('batch_size', [16, 64, 256]),\n",
    "        **kwargs\n",
    "        )"
   ]
  },
  {
   "cell_type": "code",
   "execution_count": null,
   "metadata": {
    "id": "JJro7GH2AZEK"
   },
   "outputs": [],
   "source": [
    "# Define Keras Tuner\n",
    "tuner = keras_tuner.GridSearch(\n",
    "    hypermodel=MyHyperModel(),\n",
    "    objective=keras_tuner.Objective('val_MEE', direction='min'),\n",
    "    executions_per_trial=3,\n",
    "    max_consecutive_failed_trials=1,\n",
    "    overwrite=True\n",
    ")"
   ]
  },
  {
   "cell_type": "code",
   "execution_count": null,
   "metadata": {
    "id": "iE1Vc3b3xPg-"
   },
   "outputs": [],
   "source": [
    "# Search space summary\n",
    "tuner.search_space_summary()"
   ]
  },
  {
   "cell_type": "code",
   "execution_count": null,
   "metadata": {
    "id": "6jypIBN5xPjq"
   },
   "outputs": [],
   "source": [
    "%%time\n",
    "# Define stopping criteria\n",
    "early_stopping = keras.callbacks.EarlyStopping(monitor='val_loss', patience=20)\n",
    "\n",
    "# Starting the search\n",
    "tuner.search(X, y, epochs=500, validation_split=0.2, verbose=1, callbacks=[early_stopping])"
   ]
  },
  {
   "cell_type": "code",
   "execution_count": null,
   "metadata": {
    "id": "ujsX1NDzCJm5"
   },
   "outputs": [],
   "source": [
    "# Summary results\n",
    "tuner.results_summary()"
   ]
  },
  {
   "cell_type": "markdown",
   "metadata": {
    "id": "xxuNEsO8-cMj"
   },
   "source": [
    "### **Coarse-grained GridSearch (Adam & Weight decay)**"
   ]
  },
  {
   "cell_type": "code",
   "execution_count": null,
   "metadata": {
    "id": "EjkbCJaD-a5c"
   },
   "outputs": [],
   "source": [
    "# Define HyperModel\n",
    "class MyHyperModel(keras_tuner.HyperModel):\n",
    "    def build(self, hp):\n",
    "        # Hyperparameters\n",
    "        units=hp.Choice(\"units\", [16, 64, 256])\n",
    "        activation=hp.Choice(\"activation\", ['relu', 'elu'])\n",
    "        kernel_initializer=hp.Choice(\"kernel_initializer\", ['GlorotUniform', 'RandomUniform'])\n",
    "        weight_decay = hp.Choice('weight_decay', [1e-4, 1e-3, 1e-2])\n",
    "        # Define the model\n",
    "        model = keras.Sequential()\n",
    "        model.add(layers.Input(shape=[9,]))\n",
    "        for i in range(hp.Int(\"num_layers\", 2, 3, sampling='linear')):\n",
    "            model.add(layers.Dense(units=units, activation=activation, kernel_initializer=kernel_initializer))\n",
    "        model.add(layers.Dense(2))\n",
    "        # Compile the model\n",
    "        model.compile(optimizer=keras.optimizers.Adam(weight_decay=weight_decay),\n",
    "                      loss=MEE,\n",
    "                      metrics=MEE)\n",
    "        return model\n",
    "\n",
    "    def fit(self, hp, model, *args, **kwargs):\n",
    "        return model.fit(\n",
    "            *args,\n",
    "            batch_size=hp.Choice('batch_size', [16, 64, 256]),\n",
    "            **kwargs\n",
    "        )"
   ]
  },
  {
   "cell_type": "code",
   "execution_count": null,
   "metadata": {
    "id": "wJACL2Fg-bAM"
   },
   "outputs": [],
   "source": [
    "# Define Keras Tuner\n",
    "tuner = keras_tuner.GridSearch(\n",
    "    hypermodel=MyHyperModel(),\n",
    "    objective=keras_tuner.Objective('val_MEE', direction='min'),\n",
    "    executions_per_trial=3,\n",
    "    max_consecutive_failed_trials=1,\n",
    "    overwrite=True\n",
    ")"
   ]
  },
  {
   "cell_type": "code",
   "execution_count": null,
   "metadata": {
    "id": "0SC3fT4o-bC5"
   },
   "outputs": [],
   "source": [
    "# Search space summary\n",
    "tuner.search_space_summary()"
   ]
  },
  {
   "cell_type": "code",
   "execution_count": null,
   "metadata": {
    "id": "yxoNWeIK-bFP"
   },
   "outputs": [],
   "source": [
    "%%time\n",
    "# Define stopping criteria\n",
    "early_stopping = keras.callbacks.EarlyStopping(monitor='val_loss', patience=20)\n",
    "\n",
    "# Starting the search\n",
    "tuner.search(X, y, epochs=500, validation_split=0.2, verbose=1, callbacks=[early_stopping])"
   ]
  },
  {
   "cell_type": "code",
   "execution_count": null,
   "metadata": {
    "id": "fGHZ2OSC-bH-"
   },
   "outputs": [],
   "source": [
    "# Summary results\n",
    "tuner.results_summary()"
   ]
  },
  {
   "cell_type": "markdown",
   "metadata": {
    "id": "P6oFCyS5vskL"
   },
   "source": [
    "### **Coarse-grained GridSearch (SGD & Dropout)**"
   ]
  },
  {
   "cell_type": "code",
   "execution_count": null,
   "metadata": {
    "id": "0jJ8xlCIv9CB"
   },
   "outputs": [],
   "source": [
    "# Define HyperModel\n",
    "class MyHyperModel(keras_tuner.HyperModel):\n",
    "  def build(self, hp):\n",
    "    # Hyperparameters\n",
    "    units=hp.Choice(\"units\", [16, 64, 256])\n",
    "    dropout=hp.Boolean(\"dropout\")\n",
    "    rate=hp.Choice(\"rate\", [0.1, 0.3])\n",
    "    learning_rate = hp.Choice(\"learning_rate\", [1e-3, 1e-2])\n",
    "    momentum = hp.Choice(\"momentum\", [0.0, 0.9])\n",
    "    # Define the model\n",
    "    model = keras.Sequential()\n",
    "    model.add(layers.Input(shape=[9,]))\n",
    "    for i in range(hp.Int(\"num_layers\", 2, 3, sampling='linear')):\n",
    "      model.add(layers.Dense(units=units, activation='elu', kernel_initializer='RandomUniform'))\n",
    "      if dropout:\n",
    "        model.add(layers.Dropout(rate=rate))\n",
    "    model.add(layers.Dense(2))\n",
    "    # Compile the model\n",
    "    model.compile(\n",
    "        optimizer=keras.optimizers.SGD(learning_rate=learning_rate,\n",
    "                                       momentum=momentum),\n",
    "        loss=MEE,\n",
    "        metrics=MEE\n",
    "        )\n",
    "    return model\n",
    "\n",
    "  def fit(self, hp, model, *args, **kwargs):\n",
    "    return model.fit(\n",
    "        *args,\n",
    "        batch_size=hp.Choice('batch_size', [16, 64, 256]),\n",
    "        **kwargs)"
   ]
  },
  {
   "cell_type": "code",
   "execution_count": null,
   "metadata": {
    "id": "jS09ajp-v8_f"
   },
   "outputs": [],
   "source": [
    "# Define Keras Tuner\n",
    "tuner = keras_tuner.GridSearch(\n",
    "    hypermodel=MyHyperModel(),\n",
    "    objective=keras_tuner.Objective('val_MEE', direction='min'),\n",
    "    executions_per_trial=3,\n",
    "    max_consecutive_failed_trials=1,\n",
    "    overwrite=True\n",
    ")"
   ]
  },
  {
   "cell_type": "code",
   "execution_count": null,
   "metadata": {
    "id": "OM34EpzLv887"
   },
   "outputs": [],
   "source": [
    "# Search space summary\n",
    "tuner.search_space_summary()"
   ]
  },
  {
   "cell_type": "code",
   "execution_count": null,
   "metadata": {
    "id": "qTS6XvUpv86S"
   },
   "outputs": [],
   "source": [
    "%%time\n",
    "# Define stopping criteria\n",
    "early_stopping = keras.callbacks.EarlyStopping(monitor='val_loss', patience=20)\n",
    "\n",
    "# Starting the search\n",
    "tuner.search(X, y, epochs=500, validation_split=0.2, verbose=1, callbacks=[early_stopping])"
   ]
  },
  {
   "cell_type": "code",
   "execution_count": null,
   "metadata": {
    "id": "RGo__zV_v83t"
   },
   "outputs": [],
   "source": [
    "# Summary results\n",
    "tuner.results_summary()"
   ]
  },
  {
   "cell_type": "markdown",
   "metadata": {
    "id": "qr18R67JL66l"
   },
   "source": [
    "### **Coarse-grained GridSearch (Adam & Dropout)**"
   ]
  },
  {
   "cell_type": "code",
   "execution_count": null,
   "metadata": {
    "id": "b7-RZr8qL7OZ"
   },
   "outputs": [],
   "source": [
    "# Define HyperModel\n",
    "class MyHyperModel(keras_tuner.HyperModel):\n",
    "    def build(self, hp):\n",
    "        # Hyperparameters\n",
    "        units=hp.Choice(\"units\", [16, 64, 256])\n",
    "        activation=hp.Choice(\"activation\", ['relu', 'elu'])\n",
    "        kernel_initializer=hp.Choice(\"kernel_initializer\", ['GlorotUniform', 'RandomUniform'])\n",
    "        dropout=hp.Boolean(\"dropout\")\n",
    "        rate=hp.Choice(\"rate\", [0.1, 0.3, 0.5])\n",
    "        # Define the model\n",
    "        model = keras.Sequential()\n",
    "        model.add(layers.Input(shape=[9,]))\n",
    "        for i in range(hp.Int(\"num_layers\", 2, 3, sampling='linear')):\n",
    "            model.add(layers.Dense(units=units, activation=activation, kernel_initializer=kernel_initializer))\n",
    "            if dropout:\n",
    "                model.add(layers.Dropout(rate=rate))\n",
    "        model.add(layers.Dense(2))\n",
    "        # Compile the model\n",
    "        model.compile(optimizer='Adam', loss=MEE, metrics=MEE)\n",
    "        return model\n",
    "\n",
    "    def fit(self, hp, model, *args, **kwargs):\n",
    "        return model.fit(\n",
    "            *args,\n",
    "            batch_size=hp.Choice('batch_size', [16, 64, 256]),\n",
    "            **kwargs\n",
    "        )"
   ]
  },
  {
   "cell_type": "code",
   "execution_count": null,
   "metadata": {
    "id": "NwVX1OFsL7Vc"
   },
   "outputs": [],
   "source": [
    "# Define Keras Tuner\n",
    "tuner = keras_tuner.GridSearch(\n",
    "    hypermodel=MyHyperModel(),\n",
    "    objective=keras_tuner.Objective('val_MEE', direction='min'),\n",
    "    executions_per_trial=3,\n",
    "    max_consecutive_failed_trials=1,\n",
    "    overwrite=True\n",
    ")"
   ]
  },
  {
   "cell_type": "code",
   "execution_count": null,
   "metadata": {
    "id": "7_gbA2HZL7aA"
   },
   "outputs": [],
   "source": [
    "# Search space summary\n",
    "tuner.search_space_summary()"
   ]
  },
  {
   "cell_type": "code",
   "execution_count": null,
   "metadata": {
    "id": "4rwKY4nNL7r0"
   },
   "outputs": [],
   "source": [
    "%%time\n",
    "# Define stopping criteria\n",
    "early_stopping = keras.callbacks.EarlyStopping(monitor='val_loss', patience=20)\n",
    "\n",
    "# Starting the search\n",
    "tuner.search(X, y, epochs=500, validation_split=0.2, verbose=1, callbacks=[early_stopping])"
   ]
  },
  {
   "cell_type": "code",
   "execution_count": null,
   "metadata": {
    "id": "BguM90cWNd9j"
   },
   "outputs": [],
   "source": [
    "# Summary results\n",
    "tuner.results_summary()"
   ]
  },
  {
   "cell_type": "markdown",
   "metadata": {
    "id": "Qc2pvxqsWyh9"
   },
   "source": [
    "### **Fine-grained GridSearch (SGD & Weight decay)**"
   ]
  },
  {
   "cell_type": "code",
   "execution_count": null,
   "metadata": {
    "id": "G9yeryHzW6mn"
   },
   "outputs": [],
   "source": [
    "# Define HyperModel\n",
    "class MyHyperModel(keras_tuner.HyperModel):\n",
    "  def build(self, hp):\n",
    "    # Hyperparameters\n",
    "    units = hp.Choice(\"units\", [16, 32])\n",
    "    momentum = hp.Choice(\"momentum\", [0.5, 0.9])\n",
    "    weight_decay = hp.Choice(\"weight_decay\", [0.001, 0.002, 0.004, 0.006, 0.008, 0.01])\n",
    "    # Define the model\n",
    "    model = keras.Sequential()\n",
    "    model.add(layers.Input(shape=[9,]))\n",
    "    for i in range(3):\n",
    "      model.add(layers.Dense(units=units, activation='elu', kernel_initializer='RandomUniform'))\n",
    "    model.add(layers.Dense(2))\n",
    "    # Compile the model\n",
    "    model.compile(optimizer=keras.optimizers.SGD(learning_rate=0.01,\n",
    "                                                 momentum=momentum,\n",
    "                                                 weight_decay=weight_decay,\n",
    "                                                 nesterov=True),\n",
    "                  loss=MEE,\n",
    "                  metrics=MEE)\n",
    "    return model\n",
    "\n",
    "  def fit(self, hp, model, *args, **kwargs):\n",
    "    return model.fit(\n",
    "        *args,\n",
    "        batch_size=64,\n",
    "        **kwargs\n",
    "    )"
   ]
  },
  {
   "cell_type": "code",
   "execution_count": null,
   "metadata": {
    "id": "XtRlE-R4W_ZM"
   },
   "outputs": [],
   "source": [
    "# Define Keras Tuner\n",
    "tuner = keras_tuner.GridSearch(\n",
    "    hypermodel=MyHyperModel(),\n",
    "    objective=keras_tuner.Objective('val_MEE', direction='min'),\n",
    "    executions_per_trial=3,\n",
    "    max_consecutive_failed_trials=1,\n",
    "    overwrite=True\n",
    ")"
   ]
  },
  {
   "cell_type": "code",
   "execution_count": null,
   "metadata": {
    "id": "SEpUukR4Ymcw"
   },
   "outputs": [],
   "source": [
    "# Search space summary\n",
    "tuner.search_space_summary()"
   ]
  },
  {
   "cell_type": "code",
   "execution_count": null,
   "metadata": {
    "id": "7VilZiCQYmig"
   },
   "outputs": [],
   "source": [
    "%%time\n",
    "# Define stopping criteria\n",
    "early_stopping = keras.callbacks.EarlyStopping(monitor='val_loss', patience=20)\n",
    "\n",
    "# Starting the search\n",
    "tuner.seach(X, y, epochs=500, validation_split=0.2, verbose=1, callbacks=[early_stopping])"
   ]
  },
  {
   "cell_type": "code",
   "execution_count": null,
   "metadata": {
    "id": "who6rTlqYrzT"
   },
   "outputs": [],
   "source": [
    "# Summary results\n",
    "tuner.results_summary()"
   ]
  },
  {
   "cell_type": "markdown",
   "metadata": {
    "id": "yJXR7YTIiF2I"
   },
   "source": [
    "### **Fine-grained GridSearch (Adam & Weight decay)**"
   ]
  },
  {
   "cell_type": "code",
   "execution_count": null,
   "metadata": {
    "id": "DVHdK1tViFa5"
   },
   "outputs": [],
   "source": [
    "# Define HyperModel\n",
    "class MyHyperModel(keras_tuner.HyperModel):\n",
    "  def build(self, hp):\n",
    "    # Hyperparameters\n",
    "    units = hp.Choice(\"units\", [128, 256])\n",
    "    weight_decay = hp.Choice(\"weight_decay\", [0.0001, 0.0002, 0.0004, 0.0007, 0.0008, 0.001])\n",
    "    # Define the model\n",
    "    model = keras.Sequential()\n",
    "    model.add(layers.Input(shape=[9,]))\n",
    "    for i in range(3):\n",
    "      model.add(layers.Dense(units=units, activation='elu', kernel_initializer='RandomUniform'))\n",
    "    model.add(layers.Dense(2))\n",
    "    # Compile the model\n",
    "    model.compile(optimizer=keras.optimizers.Adam(weight_decay=weight_decay),\n",
    "                  loss=MEE,\n",
    "                  metrics=MEE)\n",
    "    return model\n",
    "\n",
    "  def fit(self, hp, model, *args, **kwargs):\n",
    "    return model.fit(\n",
    "        *args,\n",
    "        batch_size=16,\n",
    "        **kwargs\n",
    "    )"
   ]
  },
  {
   "cell_type": "code",
   "execution_count": null,
   "metadata": {
    "id": "Ey605BuQiFTZ"
   },
   "outputs": [],
   "source": [
    "# Define Keras Tuner\n",
    "tuner = keras_tuner.GridSearch(\n",
    "    hypermodel=MyHyperModel(),\n",
    "    objective=keras_tuner.Objective('val_MEE', direction='min'),\n",
    "    executions_per_trial=3,\n",
    "    max_consecutive_failed_trials=1,\n",
    "    overwrite=True\n",
    ")"
   ]
  },
  {
   "cell_type": "code",
   "execution_count": null,
   "metadata": {
    "id": "uXznuE1emH5L"
   },
   "outputs": [],
   "source": [
    "# Search space summary\n",
    "tuner.search_space_summary()"
   ]
  },
  {
   "cell_type": "code",
   "execution_count": null,
   "metadata": {
    "id": "aiFQicVSmH1W"
   },
   "outputs": [],
   "source": [
    "%%time\n",
    "# Define stopping criteria\n",
    "early_stopping = keras.callbacks.EarlyStopping(monitor='val_loss', patience=20)\n",
    "\n",
    "# Starting the search\n",
    "tuner.seach(X, y, epochs=500, validation_split=0.2, verbose=1, callbacks=[early_stopping])"
   ]
  },
  {
   "cell_type": "code",
   "execution_count": null,
   "metadata": {
    "id": "P0MggCLsiFPk"
   },
   "outputs": [],
   "source": [
    "# Summary results\n",
    "tuner.results_summary()"
   ]
  },
  {
   "cell_type": "markdown",
   "metadata": {
    "id": "7rsU9I95XxC5"
   },
   "source": [
    "---\n",
    "## **K-Fold Cross Validation best model**"
   ]
  },
  {
   "cell_type": "code",
   "execution_count": null,
   "metadata": {
    "id": "A_3cmfGhZZB_"
   },
   "outputs": [],
   "source": [
    "# Val MEE on the individual folds\n",
    "MEE_per_fold = []\n",
    "\n",
    "# Define the K-fold Cross Validator\n",
    "kfold = KFold(n_splits=5, shuffle=True)\n",
    "\n",
    "# Run a 5-folds cross-validation\n",
    "for  fold_idx, (train_indices, val_indices) in enumerate(kfold.split(design)):\n",
    "  print(f\"Running fold {fold_idx+1}\")\n",
    "\n",
    "  # Extract the training and testing examples\n",
    "  X_train , y_train = design.iloc[train_indices, :-2], design.iloc[train_indices, -2:]\n",
    "  X_val , y_val = design.iloc[val_indices, :-2], design.iloc[val_indices, -2:]\n",
    "\n",
    "  # Define the model\n",
    "  model = build_model(\n",
    "    n_hidden_layers=3,\n",
    "    units=32,\n",
    "    activation='elu',\n",
    "    kernel_initializer='RandomUniform',\n",
    "    optimizer=tf.keras.optimizers.SGD(learning_rate=0.01,\n",
    "                                                    momentum=0.9,\n",
    "                                                    weight_decay=0.002,\n",
    "                                                    nesterov=True))\n",
    "  # Train the model\n",
    "  history = model.fit(X_train, y_train,\n",
    "                      validation_data=(X_val, y_val),\n",
    "                      batch_size=64,\n",
    "                      epochs=500,\n",
    "                      verbose=0)\n",
    "\n",
    "  # Evaluate the model\n",
    "  val_mee = min(history.history['val_MEE'])\n",
    "  print(f'val_MEE: {val_mee}')\n",
    "  MEE_per_fold.append(val_mee)\n",
    "\n",
    "print(f\"Mean: {mean(MEE_per_fold)}\")\n",
    "print(f\"Stdev: {stdev(MEE_per_fold)}\")"
   ]
  },
  {
   "cell_type": "markdown",
   "metadata": {
    "id": "MgHxDvlRsmPZ"
   },
   "source": [
    "---\n",
    "## **Model Assessment**"
   ]
  },
  {
   "cell_type": "markdown",
   "metadata": {
    "id": "6JdGAvw_3GUz"
   },
   "source": [
    "### **Training & Validation Loss/MEE**"
   ]
  },
  {
   "cell_type": "code",
   "execution_count": null,
   "metadata": {
    "id": "m_wo6NXMsxzS"
   },
   "outputs": [],
   "source": [
    "# Define the model\n",
    "model = build_model(\n",
    "    n_hidden_layers=3,\n",
    "    units=32,\n",
    "    activation='elu',\n",
    "    kernel_initializer='RandomUniform',\n",
    "    optimizer=tf.keras.optimizers.SGD(learning_rate=0.01,\n",
    "                                                    momentum=0.9,\n",
    "                                                    weight_decay=0.002,\n",
    "                                                    nesterov=True))\n",
    "# Define stopping criteria\n",
    "early_stopping = keras.callbacks.EarlyStopping(monitor='val_loss', patience=20)\n",
    "\n",
    "# Fit the model\n",
    "history = model.fit(X,\n",
    "                    y,\n",
    "                    validation_split=0.2,\n",
    "                    batch_size=64,\n",
    "                    epochs=1000,\n",
    "                    shuffle=True,\n",
    "                    callbacks=[early_stopping],\n",
    "                    verbose=1)"
   ]
  },
  {
   "cell_type": "code",
   "execution_count": null,
   "metadata": {
    "id": "IMTGqq2Gs3hd"
   },
   "outputs": [],
   "source": [
    "loss_plot(history, label_loss='Training loss', label_val_loss='Validation loss')"
   ]
  },
  {
   "cell_type": "code",
   "execution_count": null,
   "metadata": {
    "id": "0IlMM4gvjK2L"
   },
   "outputs": [],
   "source": [
    "MEE_plot(history, label_MEE='Training MEE', label_val_MEE='Validation MEE')"
   ]
  },
  {
   "cell_type": "code",
   "execution_count": null,
   "metadata": {
    "id": "hT3DssAmwSR3"
   },
   "outputs": [],
   "source": [
    "# Prediction on design set\n",
    "results_design = model.evaluate(x=X, y=y)\n",
    "design_loss, design_MEE = results_design[0], results_design[1]\n",
    "print()\n",
    "print(f'Design loss: {design_loss}')\n",
    "print(f'Design MEE: {design_MEE}')"
   ]
  },
  {
   "cell_type": "code",
   "execution_count": null,
   "metadata": {
    "id": "y8KtPlNbwSIT"
   },
   "outputs": [],
   "source": [
    "# Prediction on test set\n",
    "results_test = model.evaluate(x=X_test, y=y_test)\n",
    "test_loss, test_MEE = results_test[0], results_test[1]\n",
    "print()\n",
    "print(f'Test loss: {test_loss}')\n",
    "print(f'Test MEE: {test_MEE}')"
   ]
  },
  {
   "cell_type": "markdown",
   "metadata": {
    "id": "ySq0n5tlhTxE"
   },
   "source": [
    "### **Prediction Plots**"
   ]
  },
  {
   "cell_type": "code",
   "execution_count": null,
   "metadata": {
    "id": "d_4-eiO21o-p"
   },
   "outputs": [],
   "source": [
    "# Generate prediction of target variables\n",
    "test_pred = model.predict(X_test.values, verbose=0)\n",
    "y_pred = tf.convert_to_tensor(test_pred, dtype=tf.double)"
   ]
  },
  {
   "cell_type": "code",
   "execution_count": null,
   "metadata": {
    "id": "gRt9GHeAhRfM"
   },
   "outputs": [],
   "source": [
    "# y prediction\n",
    "plt.figure(figsize=(8, 6))\n",
    "sns.set_theme(style=\"darkgrid\")\n",
    "sns.scatterplot(x=y_test['x'], y=y_test['y'], label='y_true')\n",
    "sns.scatterplot(x=y_test['x'], y=y_pred[:, 1], color='r', label='y_pred')\n",
    "plt.title('Multi Layer Perceptron y prediction', fontsize=14)\n",
    "plt.xlabel('x', fontsize=14)\n",
    "plt.ylabel('y', fontsize=14)\n",
    "plt.xticks(fontsize=10)\n",
    "plt.yticks(fontsize=10)\n",
    "plt.legend()\n",
    "plt.show()"
   ]
  },
  {
   "cell_type": "code",
   "execution_count": null,
   "metadata": {
    "id": "yWriXI7EhRcP"
   },
   "outputs": [],
   "source": [
    "# x prediction\n",
    "plt.figure(figsize=(8, 6))\n",
    "sns.set_theme(style=\"darkgrid\")\n",
    "sns.scatterplot(x=y_test['x'], y=y_test['y'], label='x_true')\n",
    "sns.scatterplot(x=y_pred[:, 0], y=y_test['y'], color='r', label='x_pred')\n",
    "plt.title('Multi Layer Perceptron x prediction', fontsize=14)\n",
    "plt.xlabel('x', fontsize=14)\n",
    "plt.ylabel('y', fontsize=14)\n",
    "plt.xticks(fontsize=10)\n",
    "plt.yticks(fontsize=10)\n",
    "plt.legend()\n",
    "plt.show()"
   ]
  },
  {
   "cell_type": "markdown",
   "metadata": {
    "id": "dP15QInTld9v"
   },
   "source": [
    "### **Design & Test Loss/MEE**"
   ]
  },
  {
   "cell_type": "code",
   "execution_count": null,
   "metadata": {
    "id": "VbpL4tx13j-t"
   },
   "outputs": [],
   "source": [
    "# Define the model\n",
    "model = build_model(\n",
    "    n_hidden_layers=3,\n",
    "    units=32,\n",
    "    activation='elu',\n",
    "    kernel_initializer='RandomUniform',\n",
    "    optimizer=tf.keras.optimizers.SGD(learning_rate=0.01,\n",
    "                                                    momentum=0.9,\n",
    "                                                    weight_decay=0.002,\n",
    "                                                    nesterov=True))\n",
    "# Fit the model\n",
    "history = model.fit(X,\n",
    "                    y,\n",
    "                    validation_data=(X_test, y_test),\n",
    "                    batch_size=64,\n",
    "                    epochs=160, # Previously, the model stopped after 152 epochs\n",
    "                    shuffle=True,\n",
    "                    verbose=1)"
   ]
  },
  {
   "cell_type": "code",
   "execution_count": null,
   "metadata": {
    "id": "GJSUuT4Qkw6T"
   },
   "outputs": [],
   "source": [
    "loss_plot(history, label_loss='Design loss', label_val_loss='Test loss')"
   ]
  },
  {
   "cell_type": "code",
   "execution_count": null,
   "metadata": {
    "id": "Kf5RQ47Okw3u"
   },
   "outputs": [],
   "source": [
    "MEE_plot(history, label_MEE='Design MEE', label_val_MEE='Test MEE')"
   ]
  }
 ],
 "metadata": {
  "accelerator": "GPU",
  "colab": {
   "gpuType": "T4",
   "provenance": []
  },
  "kernelspec": {
   "display_name": "Python 3 (ipykernel)",
   "language": "python",
   "name": "python3"
  },
  "language_info": {
   "codemirror_mode": {
    "name": "ipython",
    "version": 3
   },
   "file_extension": ".py",
   "mimetype": "text/x-python",
   "name": "python",
   "nbconvert_exporter": "python",
   "pygments_lexer": "ipython3",
   "version": "3.9.12"
  }
 },
 "nbformat": 4,
 "nbformat_minor": 1
}
